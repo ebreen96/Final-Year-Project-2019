{
 "cells": [
  {
   "cell_type": "markdown",
   "metadata": {},
   "source": [
    "# Analysis_100\n",
    "This notebook is an analysis of the data prepared in Prep_100."
   ]
  },
  {
   "cell_type": "markdown",
   "metadata": {},
   "source": [
    "## Purpose \n",
    "* This notebook will read in the small dataset from Prep_100 for analysis for RQ1\n",
    "* What will be looked at:\n",
    "    * Notebook language\n",
    "    * Markdown vs code cells"
   ]
  },
  {
   "cell_type": "code",
   "execution_count": 1,
   "metadata": {},
   "outputs": [],
   "source": [
    "#importing relevant libraries\n",
    "import os\n",
    "import json\n",
    "import numpy as np\n",
    "import pandas as pd\n",
    "import matplotlib.pyplot as plt\n",
    "import seaborn as sns\n",
    "import re\n",
    "\n",
    "%matplotlib inline"
   ]
  },
  {
   "cell_type": "code",
   "execution_count": 2,
   "metadata": {},
   "outputs": [],
   "source": [
    "df_cell = pd.read_csv('../data/CSV_files/Cells_info.csv') # reading in csv "
   ]
  },
  {
   "cell_type": "code",
   "execution_count": 3,
   "metadata": {},
   "outputs": [
    {
     "data": {
      "text/html": [
       "<div>\n",
       "<style scoped>\n",
       "    .dataframe tbody tr th:only-of-type {\n",
       "        vertical-align: middle;\n",
       "    }\n",
       "\n",
       "    .dataframe tbody tr th {\n",
       "        vertical-align: top;\n",
       "    }\n",
       "\n",
       "    .dataframe thead th {\n",
       "        text-align: right;\n",
       "    }\n",
       "</style>\n",
       "<table border=\"1\" class=\"dataframe\">\n",
       "  <thead>\n",
       "    <tr style=\"text-align: right;\">\n",
       "      <th></th>\n",
       "      <th>nb_id</th>\n",
       "      <th>nb_language</th>\n",
       "      <th>workbook_index</th>\n",
       "      <th>cell_index</th>\n",
       "      <th>cell_type</th>\n",
       "      <th>num_words</th>\n",
       "      <th>lines_of_code</th>\n",
       "    </tr>\n",
       "  </thead>\n",
       "  <tbody>\n",
       "    <tr>\n",
       "      <th>0</th>\n",
       "      <td>1122</td>\n",
       "      <td>python</td>\n",
       "      <td>NaN</td>\n",
       "      <td>0</td>\n",
       "      <td>code</td>\n",
       "      <td>NaN</td>\n",
       "      <td>7.0</td>\n",
       "    </tr>\n",
       "    <tr>\n",
       "      <th>1</th>\n",
       "      <td>1122</td>\n",
       "      <td>python</td>\n",
       "      <td>NaN</td>\n",
       "      <td>1</td>\n",
       "      <td>code</td>\n",
       "      <td>NaN</td>\n",
       "      <td>4.0</td>\n",
       "    </tr>\n",
       "    <tr>\n",
       "      <th>2</th>\n",
       "      <td>1122</td>\n",
       "      <td>python</td>\n",
       "      <td>NaN</td>\n",
       "      <td>2</td>\n",
       "      <td>code</td>\n",
       "      <td>NaN</td>\n",
       "      <td>12.0</td>\n",
       "    </tr>\n",
       "    <tr>\n",
       "      <th>3</th>\n",
       "      <td>1122</td>\n",
       "      <td>python</td>\n",
       "      <td>NaN</td>\n",
       "      <td>3</td>\n",
       "      <td>code</td>\n",
       "      <td>NaN</td>\n",
       "      <td>1.0</td>\n",
       "    </tr>\n",
       "    <tr>\n",
       "      <th>4</th>\n",
       "      <td>1122</td>\n",
       "      <td>python</td>\n",
       "      <td>NaN</td>\n",
       "      <td>4</td>\n",
       "      <td>code</td>\n",
       "      <td>NaN</td>\n",
       "      <td>6.0</td>\n",
       "    </tr>\n",
       "  </tbody>\n",
       "</table>\n",
       "</div>"
      ],
      "text/plain": [
       "   nb_id nb_language  workbook_index  cell_index cell_type  num_words  \\\n",
       "0   1122      python             NaN           0      code        NaN   \n",
       "1   1122      python             NaN           1      code        NaN   \n",
       "2   1122      python             NaN           2      code        NaN   \n",
       "3   1122      python             NaN           3      code        NaN   \n",
       "4   1122      python             NaN           4      code        NaN   \n",
       "\n",
       "   lines_of_code  \n",
       "0            7.0  \n",
       "1            4.0  \n",
       "2           12.0  \n",
       "3            1.0  \n",
       "4            6.0  "
      ]
     },
     "execution_count": 3,
     "metadata": {},
     "output_type": "execute_result"
    }
   ],
   "source": [
    "df_cell.head()"
   ]
  },
  {
   "cell_type": "markdown",
   "metadata": {},
   "source": [
    "## Notebook Language"
   ]
  },
  {
   "cell_type": "code",
   "execution_count": 4,
   "metadata": {},
   "outputs": [
    {
     "data": {
      "text/plain": [
       "nb_language\n",
       "python      4476\n",
       "julia         52\n",
       "R             49\n",
       "c++           12\n",
       "lua            9\n",
       "Julia          7\n",
       "octave         2\n",
       "c              2\n",
       "ruby           1\n",
       "http           1\n",
       "elixir         1\n",
       "ansible        1\n",
       "Any text       1\n",
       "dtype: int64"
      ]
     },
     "execution_count": 4,
     "metadata": {},
     "output_type": "execute_result"
    }
   ],
   "source": [
    "df_cell.groupby(['nb_id', 'nb_language']).size().groupby('nb_language').size().sort_values(ascending = False)"
   ]
  },
  {
   "cell_type": "markdown",
   "metadata": {},
   "source": [
    "Here we can see, unsurprisingly, that python is the most popular language among jupyter notebooks with 4476. There are a few other languages but they don't come close to that utilised by python."
   ]
  },
  {
   "cell_type": "markdown",
   "metadata": {},
   "source": [
    "## Markdown vs Code"
   ]
  },
  {
   "cell_type": "code",
   "execution_count": 5,
   "metadata": {},
   "outputs": [
    {
     "data": {
      "text/plain": [
       "99988"
      ]
     },
     "execution_count": 5,
     "metadata": {},
     "output_type": "execute_result"
    }
   ],
   "source": [
    "len(df_cell[df_cell['cell_type'] == 'code'])"
   ]
  },
  {
   "cell_type": "markdown",
   "metadata": {},
   "source": [
    "There are 99988 code cells in the 6529 notebooks. "
   ]
  },
  {
   "cell_type": "code",
   "execution_count": 6,
   "metadata": {},
   "outputs": [
    {
     "data": {
      "text/plain": [
       "50107"
      ]
     },
     "execution_count": 6,
     "metadata": {},
     "output_type": "execute_result"
    }
   ],
   "source": [
    "len(df_cell[df_cell['cell_type'] == 'markdown'])"
   ]
  },
  {
   "cell_type": "markdown",
   "metadata": {},
   "source": [
    "There are 50107 markdown cells altogether in the 6529 notebooks. This is a 2:1 ratio of code to markdown cells. This use of markdown cells shows a promising for the advancement of literate programming."
   ]
  },
  {
   "cell_type": "markdown",
   "metadata": {},
   "source": [
    "## Average number of cells per notebook"
   ]
  },
  {
   "cell_type": "markdown",
   "metadata": {},
   "source": [
    "* Grouping by the nb_id and cell index will get the number of cells in each notebook\n",
    "* I then sort these values and get the mean number of cells from the 6500 notebooks"
   ]
  },
  {
   "cell_type": "code",
   "execution_count": 7,
   "metadata": {},
   "outputs": [
    {
     "data": {
      "text/plain": [
       "26.187887130075705"
      ]
     },
     "execution_count": 7,
     "metadata": {},
     "output_type": "execute_result"
    }
   ],
   "source": [
    "df_cell.groupby('nb_id')['cell_index'].count().sort_values(ascending=False).mean()"
   ]
  },
  {
   "cell_type": "markdown",
   "metadata": {},
   "source": [
    "We can see here that there is on average 26 cells per notebook."
   ]
  },
  {
   "cell_type": "code",
   "execution_count": 8,
   "metadata": {},
   "outputs": [
    {
     "data": {
      "text/plain": [
       "nb_id\n",
       "757289    514\n",
       "643702    469\n",
       "189246    383\n",
       "689876    323\n",
       "266880    315\n",
       "Name: cell_index, dtype: int64"
      ]
     },
     "execution_count": 8,
     "metadata": {},
     "output_type": "execute_result"
    }
   ],
   "source": [
    "cells = df_cell.groupby('nb_id')['cell_index'].count().sort_values(ascending=False)\n",
    "cells.head(5)"
   ]
  },
  {
   "cell_type": "markdown",
   "metadata": {},
   "source": [
    "Here are the 5 notebooks with the most cells.\n",
    "<br> \n",
    "Ranging from 300-500. That is a lot of cells per notebook, this may be due to users using their notebooks for messy analysis and not cleaning up their cells or maybe some users prefer to not break up their analysis and keep it all to one large notebook."
   ]
  },
  {
   "cell_type": "code",
   "execution_count": 9,
   "metadata": {},
   "outputs": [
    {
     "data": {
      "text/plain": [
       "False    3955\n",
       "True     1857\n",
       "Name: cell_index, dtype: int64"
      ]
     },
     "execution_count": 9,
     "metadata": {},
     "output_type": "execute_result"
    }
   ],
   "source": [
    "(cells > 26).value_counts()"
   ]
  },
  {
   "cell_type": "markdown",
   "metadata": {},
   "source": [
    "There are 1857 notebooks above the average cell count of 26 and 3955 below the average. "
   ]
  },
  {
   "cell_type": "markdown",
   "metadata": {},
   "source": [
    "## Average number of code cells per notebook"
   ]
  },
  {
   "cell_type": "code",
   "execution_count": 10,
   "metadata": {},
   "outputs": [],
   "source": [
    "df_cells_code = df_cell.loc[df_cell['cell_type'] == 'code']"
   ]
  },
  {
   "cell_type": "code",
   "execution_count": 11,
   "metadata": {},
   "outputs": [
    {
     "data": {
      "text/plain": [
       "17.523308797756748"
      ]
     },
     "execution_count": 11,
     "metadata": {},
     "output_type": "execute_result"
    }
   ],
   "source": [
    "df_cells_code.groupby('nb_id')['cell_index'].count().sort_values(ascending=False).mean()"
   ]
  },
  {
   "cell_type": "markdown",
   "metadata": {},
   "source": [
    "Here, we can see that the average number of code cells in a notebook is 17.5.\n",
    "This is 2/3 of the average cells at 26."
   ]
  },
  {
   "cell_type": "code",
   "execution_count": 12,
   "metadata": {},
   "outputs": [
    {
     "data": {
      "text/plain": [
       "nb_id\n",
       "643702    384\n",
       "189246    326\n",
       "757289    309\n",
       "689876    270\n",
       "103154    224\n",
       "Name: cell_index, dtype: int64"
      ]
     },
     "execution_count": 12,
     "metadata": {},
     "output_type": "execute_result"
    }
   ],
   "source": [
    "code_cells = df_cells_code.groupby('nb_id')['cell_index'].count().sort_values(ascending=False)\n",
    "code_cells.head(5)"
   ]
  },
  {
   "cell_type": "markdown",
   "metadata": {},
   "source": [
    "Here are the 5 notebooks with the most code cells.\n",
    "<br>\n",
    "These are the 5 notebooks with above 200 code cells. We can see notebook 757289 which contains the most cells out of all notebooks in this dataset, here, contains 309 code cells. "
   ]
  },
  {
   "cell_type": "code",
   "execution_count": 13,
   "metadata": {},
   "outputs": [
    {
     "data": {
      "text/plain": [
       "False    3915\n",
       "True     1791\n",
       "Name: cell_index, dtype: int64"
      ]
     },
     "execution_count": 13,
     "metadata": {},
     "output_type": "execute_result"
    }
   ],
   "source": [
    "(code_cells > 17.5).value_counts()"
   ]
  },
  {
   "cell_type": "markdown",
   "metadata": {},
   "source": [
    "There are 1791 notebooks containing above the average code cells of 17.5 and 3915 notebooks conatining below the average code cells."
   ]
  },
  {
   "cell_type": "markdown",
   "metadata": {},
   "source": [
    "## Average number of markdown cells per notebook"
   ]
  },
  {
   "cell_type": "code",
   "execution_count": 14,
   "metadata": {},
   "outputs": [],
   "source": [
    "df_cells_markd = df_cell.loc[df_cell['cell_type'] == 'markdown']"
   ]
  },
  {
   "cell_type": "code",
   "execution_count": 15,
   "metadata": {},
   "outputs": [
    {
     "data": {
      "text/plain": [
       "12.831498079385403"
      ]
     },
     "execution_count": 15,
     "metadata": {},
     "output_type": "execute_result"
    }
   ],
   "source": [
    "df_cells_markd.groupby('nb_id')['cell_index'].count().sort_values(ascending=False).mean()"
   ]
  },
  {
   "cell_type": "markdown",
   "metadata": {},
   "source": [
    "Here, we can see there are 12.8 (13 if rounded) markdown cells per notebook.\n",
    "<br>\n",
    "This is about 1/3 of the average number of cells at 26. This showing people are explaining their code as they are avidly using markdown cells in order to explain or comment on their analysis."
   ]
  },
  {
   "cell_type": "code",
   "execution_count": 16,
   "metadata": {},
   "outputs": [
    {
     "data": {
      "text/plain": [
       "nb_id\n",
       "44838      214\n",
       "266880     207\n",
       "757289     168\n",
       "1240165    157\n",
       "1240005    157\n",
       "Name: cell_index, dtype: int64"
      ]
     },
     "execution_count": 16,
     "metadata": {},
     "output_type": "execute_result"
    }
   ],
   "source": [
    "md_cells = df_cells_markd.groupby('nb_id')['cell_index'].count().sort_values(ascending=False)\n",
    "md_cells.head(5)"
   ]
  },
  {
   "cell_type": "markdown",
   "metadata": {},
   "source": [
    "Here are the 5 notebooks with the most markdown cells. It ranges from 157-214. This is a large amount of markdown cells for a notebook to have which is promising for the advancement of literate programming. Again, we see notebook 757289 with 168 markdown cells."
   ]
  },
  {
   "cell_type": "code",
   "execution_count": 17,
   "metadata": {},
   "outputs": [
    {
     "data": {
      "text/plain": [
       "False    2656\n",
       "True     1249\n",
       "Name: cell_index, dtype: int64"
      ]
     },
     "execution_count": 17,
     "metadata": {},
     "output_type": "execute_result"
    }
   ],
   "source": [
    "(md_cells > 12.8).value_counts()"
   ]
  },
  {
   "cell_type": "markdown",
   "metadata": {},
   "source": [
    "Here we can see there are 1249 cells above the average markdown cells of 12.8 and 2656 below the average markdown cells. "
   ]
  },
  {
   "cell_type": "markdown",
   "metadata": {},
   "source": [
    "## Average lines of code per notebook"
   ]
  },
  {
   "cell_type": "code",
   "execution_count": 18,
   "metadata": {},
   "outputs": [],
   "source": [
    "#dropping NaN values in lines of code columns as will be null for markdown cells\n",
    "code_lines = df_cell.dropna(subset=['lines_of_code']) "
   ]
  },
  {
   "cell_type": "code",
   "execution_count": 19,
   "metadata": {},
   "outputs": [
    {
     "data": {
      "text/plain": [
       "136.28338590956886"
      ]
     },
     "execution_count": 19,
     "metadata": {},
     "output_type": "execute_result"
    }
   ],
   "source": [
    "code_lines.groupby('nb_id')['lines_of_code'].sum().mean()"
   ]
  },
  {
   "cell_type": "markdown",
   "metadata": {},
   "source": [
    "There are 136 lines of code on average per notebook in code cells."
   ]
  },
  {
   "cell_type": "code",
   "execution_count": 20,
   "metadata": {},
   "outputs": [
    {
     "data": {
      "text/plain": [
       "nb_id\n",
       "1163984    3211.0\n",
       "1163985    3211.0\n",
       "1163983    3211.0\n",
       "1124656    1776.0\n",
       "282393     1576.0\n",
       "Name: lines_of_code, dtype: float64"
      ]
     },
     "execution_count": 20,
     "metadata": {},
     "output_type": "execute_result"
    }
   ],
   "source": [
    "lines_code = code_lines.groupby('nb_id')['lines_of_code'].sum().sort_values(ascending=False)\n",
    "lines_code.head(5)"
   ]
  },
  {
   "cell_type": "markdown",
   "metadata": {},
   "source": [
    "Here we can see the 5 notebooks with the most lines of codes. These notebooks range from 1576 to 3211. Interestingly on examination I have found that these top 3 notebooks with the same number of lines of code actually contain the same content. This may be due to a GitHub user uploading the same code but as different notebooks. "
   ]
  },
  {
   "cell_type": "code",
   "execution_count": 21,
   "metadata": {},
   "outputs": [
    {
     "data": {
      "text/plain": [
       "False    3733\n",
       "True     1973\n",
       "Name: lines_of_code, dtype: int64"
      ]
     },
     "execution_count": 21,
     "metadata": {},
     "output_type": "execute_result"
    }
   ],
   "source": [
    "(lines_code > 136).value_counts()"
   ]
  },
  {
   "cell_type": "markdown",
   "metadata": {},
   "source": [
    "There are 1973 notebooks with more than the average lines of code per notebook and 3733 notebooks with below the average. "
   ]
  },
  {
   "cell_type": "markdown",
   "metadata": {},
   "source": [
    "## Average number of words per notebook"
   ]
  },
  {
   "cell_type": "code",
   "execution_count": 22,
   "metadata": {},
   "outputs": [],
   "source": [
    "# dropping NaN values as those are not markdown cells\n",
    "words_markd = df_cell.dropna(subset=['num_words'])"
   ]
  },
  {
   "cell_type": "code",
   "execution_count": 23,
   "metadata": {},
   "outputs": [
    {
     "data": {
      "text/plain": [
       "551.530839231547"
      ]
     },
     "execution_count": 23,
     "metadata": {},
     "output_type": "execute_result"
    }
   ],
   "source": [
    "words_markd.groupby('nb_id')['num_words'].sum().mean()"
   ]
  },
  {
   "cell_type": "markdown",
   "metadata": {},
   "source": [
    "There are 551.5 words on average per notebook. On average 500 words is about an A4 page of writing. This again shows notebook users are explaining and commenting their analysis."
   ]
  },
  {
   "cell_type": "code",
   "execution_count": 24,
   "metadata": {},
   "outputs": [
    {
     "data": {
      "text/plain": [
       "nb_id\n",
       "1198190    8794.0\n",
       "42835      8563.0\n",
       "1060294    7139.0\n",
       "1240005    6575.0\n",
       "1240165    6575.0\n",
       "Name: num_words, dtype: float64"
      ]
     },
     "execution_count": 24,
     "metadata": {},
     "output_type": "execute_result"
    }
   ],
   "source": [
    "markd_words = words_markd.groupby('nb_id')['num_words'].sum().sort_values(ascending=False)\n",
    "markd_words.head()"
   ]
  },
  {
   "cell_type": "markdown",
   "metadata": {},
   "source": [
    "Here are the 5 notebooks with the most words in markdowns per notebooks. "
   ]
  },
  {
   "cell_type": "code",
   "execution_count": 25,
   "metadata": {},
   "outputs": [
    {
     "data": {
      "text/plain": [
       "False    2831\n",
       "True     1125\n",
       "Name: num_words, dtype: int64"
      ]
     },
     "execution_count": 25,
     "metadata": {},
     "output_type": "execute_result"
    }
   ],
   "source": [
    "(markd_words > 551).value_counts()"
   ]
  },
  {
   "cell_type": "markdown",
   "metadata": {},
   "source": [
    "There are 1125 notebooks with above the average words per markdoown and 2831 notebooks below the average."
   ]
  },
  {
   "cell_type": "markdown",
   "metadata": {},
   "source": [
    "The results of this analysis are in notebook Results_100"
   ]
  },
  {
   "cell_type": "code",
   "execution_count": null,
   "metadata": {},
   "outputs": [],
   "source": []
  }
 ],
 "metadata": {
  "kernelspec": {
   "display_name": "Python 3",
   "language": "python",
   "name": "python3"
  },
  "language_info": {
   "codemirror_mode": {
    "name": "ipython",
    "version": 3
   },
   "file_extension": ".py",
   "mimetype": "text/x-python",
   "name": "python",
   "nbconvert_exporter": "python",
   "pygments_lexer": "ipython3",
   "version": "3.6.3"
  }
 },
 "nbformat": 4,
 "nbformat_minor": 2
}
