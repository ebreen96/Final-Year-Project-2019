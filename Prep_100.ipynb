{
 "cells": [
  {
   "cell_type": "markdown",
   "metadata": {},
   "source": [
    "# Prep 100 \n",
    "This is the first prep notebook where I begin my project 'Data Science in Practice: An Analysis of Jupyter Notebooks' "
   ]
  },
  {
   "cell_type": "markdown",
   "metadata": {},
   "source": [
    "## Purpose\n",
    "* In this notebook I will begin parsing the notebook files of the smaller dataset of 6500 notebooks downloaded from - https://library.ucsd.edu/dc/object/bb2733859v as 'sample notebook data'.\n",
    "* I will first look at the cell data in the notebooks.\n",
    "\n",
    "    * First I downloaded the data: CSV file containing notebook ID's and 6500 individual ipynb files\n",
    "    * Created functions that parsed the individual notebooks by their notebook ID in the CSV\n",
    "    * Created a dataframe with information I needed including: \n",
    "        * Cell type\n",
    "        * Number of words in markdown cells\n",
    "        * Lines of code\n",
    "    * I saved the dataframe as a CSV file in /15487912_FYP/data/CSV_files/ for analysis in notebook Analysis_100"
   ]
  },
  {
   "cell_type": "code",
   "execution_count": 1,
   "metadata": {},
   "outputs": [],
   "source": [
    "#importing relevant libraries\n",
    "import os\n",
    "import json\n",
    "import numpy\n",
    "import pandas as pd\n",
    "import re"
   ]
  },
  {
   "cell_type": "code",
   "execution_count": 2,
   "metadata": {},
   "outputs": [
    {
     "name": "stdout",
     "output_type": "stream",
     "text": [
      "6529 notebooks\n"
     ]
    }
   ],
   "source": [
    "df_nb = pd.read_csv('../data/Dataset1/csv/notebooks_sample.csv')\n",
    "\n",
    "print('%s notebooks' % df_nb.shape[0])"
   ]
  },
  {
   "cell_type": "markdown",
   "metadata": {},
   "source": [
    "Reading in the CSV file containing 6529 notebooks as a dataframe."
   ]
  },
  {
   "cell_type": "code",
   "execution_count": 3,
   "metadata": {},
   "outputs": [
    {
     "data": {
      "text/html": [
       "<div>\n",
       "<style scoped>\n",
       "    .dataframe tbody tr th:only-of-type {\n",
       "        vertical-align: middle;\n",
       "    }\n",
       "\n",
       "    .dataframe tbody tr th {\n",
       "        vertical-align: top;\n",
       "    }\n",
       "\n",
       "    .dataframe thead th {\n",
       "        text-align: right;\n",
       "    }\n",
       "</style>\n",
       "<table border=\"1\" class=\"dataframe\">\n",
       "  <thead>\n",
       "    <tr style=\"text-align: right;\">\n",
       "      <th></th>\n",
       "      <th>nb_id</th>\n",
       "      <th>html_url</th>\n",
       "      <th>max_filesize</th>\n",
       "      <th>min_filesize</th>\n",
       "      <th>name</th>\n",
       "      <th>path</th>\n",
       "      <th>query_page</th>\n",
       "      <th>repo_id</th>\n",
       "    </tr>\n",
       "  </thead>\n",
       "  <tbody>\n",
       "    <tr>\n",
       "      <th>0</th>\n",
       "      <td>294</td>\n",
       "      <td>https://github.com/j3hempsey/dotfiles/blob/f3e...</td>\n",
       "      <td>10</td>\n",
       "      <td>0</td>\n",
       "      <td>jupyter.ipynb</td>\n",
       "      <td>atom/packages/file-icons/examples/jupyter.ipynb</td>\n",
       "      <td>3</td>\n",
       "      <td>33378844</td>\n",
       "    </tr>\n",
       "    <tr>\n",
       "      <th>1</th>\n",
       "      <td>329</td>\n",
       "      <td>https://github.com/cagdasyetkin/raspberryPi3/b...</td>\n",
       "      <td>10</td>\n",
       "      <td>0</td>\n",
       "      <td>IoTdemo.ipynb</td>\n",
       "      <td>IoTdemo.ipynb</td>\n",
       "      <td>4</td>\n",
       "      <td>89953189</td>\n",
       "    </tr>\n",
       "    <tr>\n",
       "      <th>2</th>\n",
       "      <td>580</td>\n",
       "      <td>https://github.com/Ruijin1988/Material-Design-...</td>\n",
       "      <td>10</td>\n",
       "      <td>0</td>\n",
       "      <td>6_Artistic_style_transfer_with_a_repurposed_VG...</td>\n",
       "      <td>vanilla_vae/6_Artistic_style_transfer_with_a_r...</td>\n",
       "      <td>6</td>\n",
       "      <td>90590288</td>\n",
       "    </tr>\n",
       "    <tr>\n",
       "      <th>3</th>\n",
       "      <td>594</td>\n",
       "      <td>https://github.com/psygrammer/dprl/blob/c4bdd2...</td>\n",
       "      <td>1000000000</td>\n",
       "      <td>100000000</td>\n",
       "      <td>Design_1.ipynb</td>\n",
       "      <td>part2/OT/3.Result/Design_1.ipynb</td>\n",
       "      <td>1</td>\n",
       "      <td>40293216</td>\n",
       "    </tr>\n",
       "    <tr>\n",
       "      <th>4</th>\n",
       "      <td>921</td>\n",
       "      <td>https://github.com/ArtemKupriyanov/MOOC-COURSE...</td>\n",
       "      <td>10025</td>\n",
       "      <td>10005</td>\n",
       "      <td>sklearn.datasets-2.ipynb</td>\n",
       "      <td>ML-MIPT-Yandex-spec/2.supervised_learning/Trai...</td>\n",
       "      <td>4</td>\n",
       "      <td>74897953</td>\n",
       "    </tr>\n",
       "  </tbody>\n",
       "</table>\n",
       "</div>"
      ],
      "text/plain": [
       "   nb_id                                           html_url  max_filesize  \\\n",
       "0    294  https://github.com/j3hempsey/dotfiles/blob/f3e...            10   \n",
       "1    329  https://github.com/cagdasyetkin/raspberryPi3/b...            10   \n",
       "2    580  https://github.com/Ruijin1988/Material-Design-...            10   \n",
       "3    594  https://github.com/psygrammer/dprl/blob/c4bdd2...    1000000000   \n",
       "4    921  https://github.com/ArtemKupriyanov/MOOC-COURSE...         10025   \n",
       "\n",
       "   min_filesize                                               name  \\\n",
       "0             0                                      jupyter.ipynb   \n",
       "1             0                                      IoTdemo.ipynb   \n",
       "2             0  6_Artistic_style_transfer_with_a_repurposed_VG...   \n",
       "3     100000000                                     Design_1.ipynb   \n",
       "4         10005                           sklearn.datasets-2.ipynb   \n",
       "\n",
       "                                                path  query_page   repo_id  \n",
       "0    atom/packages/file-icons/examples/jupyter.ipynb           3  33378844  \n",
       "1                                      IoTdemo.ipynb           4  89953189  \n",
       "2  vanilla_vae/6_Artistic_style_transfer_with_a_r...           6  90590288  \n",
       "3                   part2/OT/3.Result/Design_1.ipynb           1  40293216  \n",
       "4  ML-MIPT-Yandex-spec/2.supervised_learning/Trai...           4  74897953  "
      ]
     },
     "execution_count": 3,
     "metadata": {},
     "output_type": "execute_result"
    }
   ],
   "source": [
    "df_nb.head()"
   ]
  },
  {
   "cell_type": "markdown",
   "metadata": {},
   "source": [
    "Here we see the first 5 rows of the dataframe. The first column of nb_id is particularly important as it will be used to iterate over the individual notebook files with corresponding names."
   ]
  },
  {
   "cell_type": "markdown",
   "metadata": {},
   "source": [
    "### Parsing notebooks\n",
    "    * Here I have created functions to parse the 6500 notebooks.\n",
    "    * I have extracted information about:\n",
    "        * cell type\n",
    "        * number of words in markdowns\n",
    "        * lines of code"
   ]
  },
  {
   "cell_type": "code",
   "execution_count": 4,
   "metadata": {},
   "outputs": [],
   "source": [
    "def get_all_cell_data(df):\n",
    "    \n",
    "    all_cells = []      \n",
    "\n",
    "    for index, row in df.iterrows():\n",
    "\n",
    "        f = '../data/Dataset1/notebooks/nb_%s.ipynb' % row['nb_id']\n",
    "        with open(f) as nb_file:\n",
    "\n",
    "            try:\n",
    "                data = json.load(nb_file)\n",
    "            except:\n",
    "                continue\n",
    "\n",
    "            if isinstance(data, dict): \n",
    "                keys = data.keys()\n",
    "            else:\n",
    "                keys = []\n",
    "                \n",
    "            # get the language\n",
    "            nb_language = None\n",
    "            if 'metadata' in keys:\n",
    "                if isinstance(data, dict):\n",
    "                    metadata_keys = data['metadata'].keys()\n",
    "                else:\n",
    "                    metadata_keys = []\n",
    "            else:\n",
    "                metadata_keys = []\n",
    "            if 'language_info' in metadata_keys:\n",
    "                if isinstance(data['metadata']['language_info'], dict):\n",
    "                    lang_keys = data['metadata']['language_info'].keys()\n",
    "                else:\n",
    "                    lang_keys = None\n",
    "                if 'name' in lang_keys:\n",
    "                    nb_language = data['metadata']['language_info']['name']\n",
    "            elif 'language' in metadata_keys:\n",
    "                nb_language = data['metadata']['language']\n",
    "\n",
    "            # get data for each cell, nbformat v 4.x\n",
    "            if 'cells' in keys:\n",
    "                for i, c in enumerate(data['cells']):\n",
    "                    cell_data = get_cell_data(c, i, row['nb_id'], nb_language)\n",
    "                    all_cells.append(cell_data)\n",
    "            \n",
    "            # get data for each cell, nbformat v 2.x / 3.x\n",
    "            elif 'worksheets' in keys:\n",
    "                for j, w in enumerate(data['worksheets']):\n",
    "                    if isinstance(w, dict): \n",
    "                        worksheet_keys = w.keys()\n",
    "                    else:\n",
    "                        keys = []\n",
    "                    if 'cells' in worksheet_keys:\n",
    "                        for k, c in enumerate(w['cells']):\n",
    "                            cell_data = get_cell_data(c, k, row['nb_id'], nb_language, j)\n",
    "                            all_cells.append(cell_data)\n",
    "                \n",
    "    return all_cells"
   ]
  },
  {
   "cell_type": "code",
   "execution_count": 5,
   "metadata": {},
   "outputs": [],
   "source": [
    "def get_cell_data(cell, index, nb_id, nb_language, worksheet_index = None):\n",
    "    nbformat_3_mimes = ['text', 'latex', 'png', 'jpeg', 'svg', 'html', 'javascript', 'json', 'pdf', 'metadata']\n",
    "    \n",
    "    if isinstance(cell, dict): \n",
    "        cell_keys = cell.keys()\n",
    "    else:\n",
    "        cell_keys = [] \n",
    "    \n",
    "    if 'cell_type' in cell_keys:\n",
    "        cell_type = cell['cell_type']\n",
    "    else:\n",
    "        cell_type = None\n",
    "    \n",
    "    \n",
    "    if cell_type in ['raw','markdown','heading']: #checking cell type\n",
    "        num_words = 0\n",
    "        if 'source' in cell_keys:\n",
    "            if isinstance(cell['source'], list):\n",
    "                for l in cell['source']:\n",
    "                    words = len(l.split())\n",
    "                    num_words += words\n",
    "            elif isinstance(cell['source'], str):\n",
    "                num_words += len(cell['source'].split())\n",
    "            else:\n",
    "                num_words = None\n",
    "    else:\n",
    "        num_words = None\n",
    "    \n",
    "    if cell_type == 'code':\n",
    "        lines_of_code = 0\n",
    "        if 'source' in cell_keys:\n",
    "            if isinstance(cell['source'], list):\n",
    "                lines_of_code = len(cell['source'])\n",
    "            elif isinstance(cell['source'], str):\n",
    "                lines_of_code = len(cell['source'].splitlines())\n",
    "            else:\n",
    "                lines_of_code = None\n",
    "            \n",
    "        elif 'input' in cell_keys:\n",
    "            if isinstance(cell['input'], list):\n",
    "                lines_of_code = len(cell['input'])\n",
    "            elif isinstance(cell['input'], str):\n",
    "                lines_of_code = len(cell['input'].splitlines())\n",
    "            else:\n",
    "                lines_of_code = None\n",
    "    else:\n",
    "        lines_of_code = None\n",
    "    \n",
    "    return [nb_id, nb_language, worksheet_index, index, cell_type, num_words, lines_of_code]"
   ]
  },
  {
   "cell_type": "markdown",
   "metadata": {},
   "source": [
    "The cell below takes 10 minutes to run."
   ]
  },
  {
   "cell_type": "code",
   "execution_count": 6,
   "metadata": {},
   "outputs": [],
   "source": [
    "# passing the notebook dataframe through function to iterate over each notebook and extract information\n",
    "cell_data = get_all_cell_data(df_nb)"
   ]
  },
  {
   "cell_type": "code",
   "execution_count": 7,
   "metadata": {},
   "outputs": [
    {
     "name": "stdout",
     "output_type": "stream",
     "text": [
      "(152204, 7)\n"
     ]
    },
    {
     "data": {
      "text/html": [
       "<div>\n",
       "<style scoped>\n",
       "    .dataframe tbody tr th:only-of-type {\n",
       "        vertical-align: middle;\n",
       "    }\n",
       "\n",
       "    .dataframe tbody tr th {\n",
       "        vertical-align: top;\n",
       "    }\n",
       "\n",
       "    .dataframe thead th {\n",
       "        text-align: right;\n",
       "    }\n",
       "</style>\n",
       "<table border=\"1\" class=\"dataframe\">\n",
       "  <thead>\n",
       "    <tr style=\"text-align: right;\">\n",
       "      <th></th>\n",
       "      <th>nb_id</th>\n",
       "      <th>nb_language</th>\n",
       "      <th>workbook_index</th>\n",
       "      <th>cell_index</th>\n",
       "      <th>cell_type</th>\n",
       "      <th>num_words</th>\n",
       "      <th>lines_of_code</th>\n",
       "    </tr>\n",
       "  </thead>\n",
       "  <tbody>\n",
       "    <tr>\n",
       "      <th>0</th>\n",
       "      <td>1122</td>\n",
       "      <td>python</td>\n",
       "      <td>NaN</td>\n",
       "      <td>0</td>\n",
       "      <td>code</td>\n",
       "      <td>NaN</td>\n",
       "      <td>7.0</td>\n",
       "    </tr>\n",
       "    <tr>\n",
       "      <th>1</th>\n",
       "      <td>1122</td>\n",
       "      <td>python</td>\n",
       "      <td>NaN</td>\n",
       "      <td>1</td>\n",
       "      <td>code</td>\n",
       "      <td>NaN</td>\n",
       "      <td>4.0</td>\n",
       "    </tr>\n",
       "    <tr>\n",
       "      <th>2</th>\n",
       "      <td>1122</td>\n",
       "      <td>python</td>\n",
       "      <td>NaN</td>\n",
       "      <td>2</td>\n",
       "      <td>code</td>\n",
       "      <td>NaN</td>\n",
       "      <td>12.0</td>\n",
       "    </tr>\n",
       "    <tr>\n",
       "      <th>3</th>\n",
       "      <td>1122</td>\n",
       "      <td>python</td>\n",
       "      <td>NaN</td>\n",
       "      <td>3</td>\n",
       "      <td>code</td>\n",
       "      <td>NaN</td>\n",
       "      <td>1.0</td>\n",
       "    </tr>\n",
       "    <tr>\n",
       "      <th>4</th>\n",
       "      <td>1122</td>\n",
       "      <td>python</td>\n",
       "      <td>NaN</td>\n",
       "      <td>4</td>\n",
       "      <td>code</td>\n",
       "      <td>NaN</td>\n",
       "      <td>6.0</td>\n",
       "    </tr>\n",
       "  </tbody>\n",
       "</table>\n",
       "</div>"
      ],
      "text/plain": [
       "   nb_id nb_language  workbook_index  cell_index cell_type  num_words  \\\n",
       "0   1122      python             NaN           0      code        NaN   \n",
       "1   1122      python             NaN           1      code        NaN   \n",
       "2   1122      python             NaN           2      code        NaN   \n",
       "3   1122      python             NaN           3      code        NaN   \n",
       "4   1122      python             NaN           4      code        NaN   \n",
       "\n",
       "   lines_of_code  \n",
       "0            7.0  \n",
       "1            4.0  \n",
       "2           12.0  \n",
       "3            1.0  \n",
       "4            6.0  "
      ]
     },
     "execution_count": 7,
     "metadata": {},
     "output_type": "execute_result"
    }
   ],
   "source": [
    "df_cells = pd.DataFrame(cell_data) # creating a dataframe with extracted information\n",
    "print(df_cells.shape) # getting shape of dataframe\n",
    "df_cells.columns = ['nb_id','nb_language','workbook_index','cell_index','cell_type','num_words','lines_of_code'] # renaming the columns\n",
    "df_cells.head(5) # printing first 5 rows of dataframe"
   ]
  },
  {
   "cell_type": "markdown",
   "metadata": {},
   "source": [
    "### Saving this dataframe to a CSV file"
   ]
  },
  {
   "cell_type": "code",
   "execution_count": 8,
   "metadata": {},
   "outputs": [],
   "source": [
    "df_cells.to_csv('../data/CSV_files/Cells_info.csv', index=False, encoding='utf-8')"
   ]
  },
  {
   "cell_type": "markdown",
   "metadata": {},
   "source": [
    "Analysis of this information is in notebook Analysis_100 in the analysis folder."
   ]
  },
  {
   "cell_type": "code",
   "execution_count": null,
   "metadata": {},
   "outputs": [],
   "source": []
  }
 ],
 "metadata": {
  "kernelspec": {
   "display_name": "Python 3",
   "language": "python",
   "name": "python3"
  },
  "language_info": {
   "codemirror_mode": {
    "name": "ipython",
    "version": 3
   },
   "file_extension": ".py",
   "mimetype": "text/x-python",
   "name": "python",
   "nbconvert_exporter": "python",
   "pygments_lexer": "ipython3",
   "version": "3.6.3"
  }
 },
 "nbformat": 4,
 "nbformat_minor": 2
}
